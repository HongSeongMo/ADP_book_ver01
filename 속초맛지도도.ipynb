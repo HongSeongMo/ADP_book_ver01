{
  "nbformat": 4,
  "nbformat_minor": 0,
  "metadata": {
    "colab": {
      "provenance": [],
      "mount_file_id": "1EGRxGjy-4X5ZMw6MB_4fJtdCZMIQR2l0",
      "authorship_tag": "ABX9TyMq7lPGj1/jqtm/AtBH/1lK",
      "include_colab_link": true
    },
    "kernelspec": {
      "name": "python3",
      "display_name": "Python 3"
    },
    "language_info": {
      "name": "python"
    }
  },
  "cells": [
    {
      "cell_type": "markdown",
      "metadata": {
        "id": "view-in-github",
        "colab_type": "text"
      },
      "source": [
        "<a href=\"https://colab.research.google.com/github/HongSeongMo/ADP_book_ver01/blob/main/%EC%86%8D%EC%B4%88%EB%A7%9B%EC%A7%80%EB%8F%84%EB%8F%84.ipynb\" target=\"_parent\"><img src=\"https://colab.research.google.com/assets/colab-badge.svg\" alt=\"Open In Colab\"/></a>"
      ]
    },
    {
      "cell_type": "code",
      "execution_count": 1,
      "metadata": {
        "colab": {
          "base_uri": "https://localhost:8080/"
        },
        "id": "ce4WD6RSNQ5-",
        "outputId": "fbf90dca-25a6-4419-c0e8-80c349ca8086"
      },
      "outputs": [
        {
          "output_type": "stream",
          "name": "stdout",
          "text": [
            "Requirement already satisfied: folium in /usr/local/lib/python3.10/dist-packages (0.14.0)\n",
            "Requirement already satisfied: branca>=0.6.0 in /usr/local/lib/python3.10/dist-packages (from folium) (0.7.2)\n",
            "Requirement already satisfied: jinja2>=2.9 in /usr/local/lib/python3.10/dist-packages (from folium) (3.1.4)\n",
            "Requirement already satisfied: numpy in /usr/local/lib/python3.10/dist-packages (from folium) (1.25.2)\n",
            "Requirement already satisfied: requests in /usr/local/lib/python3.10/dist-packages (from folium) (2.31.0)\n",
            "Requirement already satisfied: MarkupSafe>=2.0 in /usr/local/lib/python3.10/dist-packages (from jinja2>=2.9->folium) (2.1.5)\n",
            "Requirement already satisfied: charset-normalizer<4,>=2 in /usr/local/lib/python3.10/dist-packages (from requests->folium) (3.3.2)\n",
            "Requirement already satisfied: idna<4,>=2.5 in /usr/local/lib/python3.10/dist-packages (from requests->folium) (3.7)\n",
            "Requirement already satisfied: urllib3<3,>=1.21.1 in /usr/local/lib/python3.10/dist-packages (from requests->folium) (2.0.7)\n",
            "Requirement already satisfied: certifi>=2017.4.17 in /usr/local/lib/python3.10/dist-packages (from requests->folium) (2024.6.2)\n"
          ]
        }
      ],
      "source": [
        "pip install folium"
      ]
    },
    {
      "cell_type": "code",
      "source": [
        "import folium"
      ],
      "metadata": {
        "id": "vTrhqDENNrgl"
      },
      "execution_count": 2,
      "outputs": []
    },
    {
      "cell_type": "code",
      "source": [
        "map = folium.Map(location=[38.2068943352589, 128.591938589225], zoom_start=15)\n",
        "map"
      ],
      "metadata": {
        "colab": {
          "base_uri": "https://localhost:8080/",
          "height": 589
        },
        "id": "Z4IEsXDwN-hA",
        "outputId": "ac533ed9-e399-4c6e-ada8-b551fb16f5a3"
      },
      "execution_count": 10,
      "outputs": [
        {
          "output_type": "execute_result",
          "data": {
            "text/plain": [
              "<folium.folium.Map at 0x7d4163c3faf0>"
            ],
            "text/html": [
              "<div style=\"width:100%;\"><div style=\"position:relative;width:100%;height:0;padding-bottom:60%;\"><span style=\"color:#565656\">Make this Notebook Trusted to load map: File -> Trust Notebook</span><iframe srcdoc=\"&lt;!DOCTYPE html&gt;\n",
              "&lt;html&gt;\n",
              "&lt;head&gt;\n",
              "    \n",
              "    &lt;meta http-equiv=&quot;content-type&quot; content=&quot;text/html; charset=UTF-8&quot; /&gt;\n",
              "    \n",
              "        &lt;script&gt;\n",
              "            L_NO_TOUCH = false;\n",
              "            L_DISABLE_3D = false;\n",
              "        &lt;/script&gt;\n",
              "    \n",
              "    &lt;style&gt;html, body {width: 100%;height: 100%;margin: 0;padding: 0;}&lt;/style&gt;\n",
              "    &lt;style&gt;#map {position:absolute;top:0;bottom:0;right:0;left:0;}&lt;/style&gt;\n",
              "    &lt;script src=&quot;https://cdn.jsdelivr.net/npm/leaflet@1.9.3/dist/leaflet.js&quot;&gt;&lt;/script&gt;\n",
              "    &lt;script src=&quot;https://code.jquery.com/jquery-1.12.4.min.js&quot;&gt;&lt;/script&gt;\n",
              "    &lt;script src=&quot;https://cdn.jsdelivr.net/npm/bootstrap@5.2.2/dist/js/bootstrap.bundle.min.js&quot;&gt;&lt;/script&gt;\n",
              "    &lt;script src=&quot;https://cdnjs.cloudflare.com/ajax/libs/Leaflet.awesome-markers/2.0.2/leaflet.awesome-markers.js&quot;&gt;&lt;/script&gt;\n",
              "    &lt;link rel=&quot;stylesheet&quot; href=&quot;https://cdn.jsdelivr.net/npm/leaflet@1.9.3/dist/leaflet.css&quot;/&gt;\n",
              "    &lt;link rel=&quot;stylesheet&quot; href=&quot;https://cdn.jsdelivr.net/npm/bootstrap@5.2.2/dist/css/bootstrap.min.css&quot;/&gt;\n",
              "    &lt;link rel=&quot;stylesheet&quot; href=&quot;https://netdna.bootstrapcdn.com/bootstrap/3.0.0/css/bootstrap.min.css&quot;/&gt;\n",
              "    &lt;link rel=&quot;stylesheet&quot; href=&quot;https://cdn.jsdelivr.net/npm/@fortawesome/fontawesome-free@6.2.0/css/all.min.css&quot;/&gt;\n",
              "    &lt;link rel=&quot;stylesheet&quot; href=&quot;https://cdnjs.cloudflare.com/ajax/libs/Leaflet.awesome-markers/2.0.2/leaflet.awesome-markers.css&quot;/&gt;\n",
              "    &lt;link rel=&quot;stylesheet&quot; href=&quot;https://cdn.jsdelivr.net/gh/python-visualization/folium/folium/templates/leaflet.awesome.rotate.min.css&quot;/&gt;\n",
              "    \n",
              "            &lt;meta name=&quot;viewport&quot; content=&quot;width=device-width,\n",
              "                initial-scale=1.0, maximum-scale=1.0, user-scalable=no&quot; /&gt;\n",
              "            &lt;style&gt;\n",
              "                #map_745c1f6f6b0e4157996a6029e0adb90b {\n",
              "                    position: relative;\n",
              "                    width: 100.0%;\n",
              "                    height: 100.0%;\n",
              "                    left: 0.0%;\n",
              "                    top: 0.0%;\n",
              "                }\n",
              "                .leaflet-container { font-size: 1rem; }\n",
              "            &lt;/style&gt;\n",
              "        \n",
              "&lt;/head&gt;\n",
              "&lt;body&gt;\n",
              "    \n",
              "    \n",
              "            &lt;div class=&quot;folium-map&quot; id=&quot;map_745c1f6f6b0e4157996a6029e0adb90b&quot; &gt;&lt;/div&gt;\n",
              "        \n",
              "&lt;/body&gt;\n",
              "&lt;script&gt;\n",
              "    \n",
              "    \n",
              "            var map_745c1f6f6b0e4157996a6029e0adb90b = L.map(\n",
              "                &quot;map_745c1f6f6b0e4157996a6029e0adb90b&quot;,\n",
              "                {\n",
              "                    center: [38.2068943352589, 128.591938589225],\n",
              "                    crs: L.CRS.EPSG3857,\n",
              "                    zoom: 15,\n",
              "                    zoomControl: true,\n",
              "                    preferCanvas: false,\n",
              "                }\n",
              "            );\n",
              "\n",
              "            \n",
              "\n",
              "        \n",
              "    \n",
              "            var tile_layer_3fa1d9ee2d4932858a008cdf0a2a9665 = L.tileLayer(\n",
              "                &quot;https://{s}.tile.openstreetmap.org/{z}/{x}/{y}.png&quot;,\n",
              "                {&quot;attribution&quot;: &quot;Data by \\u0026copy; \\u003ca target=\\&quot;_blank\\&quot; href=\\&quot;http://openstreetmap.org\\&quot;\\u003eOpenStreetMap\\u003c/a\\u003e, under \\u003ca target=\\&quot;_blank\\&quot; href=\\&quot;http://www.openstreetmap.org/copyright\\&quot;\\u003eODbL\\u003c/a\\u003e.&quot;, &quot;detectRetina&quot;: false, &quot;maxNativeZoom&quot;: 18, &quot;maxZoom&quot;: 18, &quot;minZoom&quot;: 0, &quot;noWrap&quot;: false, &quot;opacity&quot;: 1, &quot;subdomains&quot;: &quot;abc&quot;, &quot;tms&quot;: false}\n",
              "            ).addTo(map_745c1f6f6b0e4157996a6029e0adb90b);\n",
              "        \n",
              "&lt;/script&gt;\n",
              "&lt;/html&gt;\" style=\"position:absolute;width:100%;height:100%;left:0;top:0;border:none !important;\" allowfullscreen webkitallowfullscreen mozallowfullscreen></iframe></div></div>"
            ]
          },
          "metadata": {},
          "execution_count": 10
        }
      ]
    },
    {
      "cell_type": "code",
      "source": [
        "# 맛집 정보\n",
        "restaurants = [\n",
        "    {\n",
        "        \"name\": \"러브마린크랩\",\n",
        "        \"coords\": [38.232251, 128.624328],\n",
        "        \"category\": \"홍게 맛집\",\n",
        "        \"description\": \"신선한 홍게 요리를 맛볼 수 있는 곳\",\n",
        "        \"address\": \"속초시 장사항해안길 64-1\",\n",
        "        \"telephone\": \"010-1234-5678\"\n",
        "        \"website\": \"http://lovemarinecrab.com\",\n",
        "    },\n",
        "    {\n",
        "        \"name\": \"술빵술빵\",\n",
        "        \"coords\": [38.203671, 128.589600],\n",
        "        \"category\": \"술빵\",\n",
        "        \"description\": \"원조 수제 반죽 술빵\",\n",
        "        \"address\": \"강원 속초시 중앙로129번길 23-1\",\n",
        "        \"telephone\": \"010-3563-5674\"\n",
        "    },\n",
        "    {\n",
        "        \"name\": \"우리들횟집“\n",
        "        \"coords\": [38.252337, 128.567723],\n",
        "        \"category\": \"모듬회,대게세트\",\n",
        "        \"description\": \"신선한활어와 각종해산물,대게,킹크랩,털게,홍게,꽃새우등\",\n",
        "        \"address\": \"강원 고성군 토성면 토성로44-12 봉포항활어회센터내 우리들횟집\",\n",
        "        \"telephone\": \"010-3834-021\n",
        "    },\n",
        "    {\n",
        "        \"name\": \"레드아보\"\n",
        "        \"coords\": [38.185762, 128.601711],\n",
        "        \"category\": \"브런치\",\n",
        "        \"description\": \"호주식 브런치와 커피\",\n",
        "        \"address\": \"강원 속초시 새마을1길 1 1층“\n",
        "        \"telephone\": \"010-5166-2415\"\n",
        "    },\n",
        "    {\n",
        "       \"name\": \"제이브레드\",\n",
        "        \"coords\": [  ],\n",
        "        \"category\": \"베이커리카페\",\n",
        "        \"description\": \"오미자발효종을 활용하며 매일 만드는 신선한빵과 커피\",\n",
        "        \"address\": \"강원 속초시 조양로 47 통일빌라 1층\",\n",
        "        \"telephone\": \"010-7190-9845\"\n",
        "    },\n",
        "    {\n",
        "        \"name\": \"느루샌드위치 (중앙점)\",\n",
        "        \"coords\": [  ],\n",
        "        \"category\": \"샌드위치 &케이크, 샐러드 커피\",\n",
        "        \"description\": \"신선하고 맛있는 에그, 게살, 닭가슴살샌드위치에 반반샐러드와 빅사이즈샐러드 왕관으로 장식된 정말 맛있는 케이크\",\n",
        "        \"address\": \"강원특별자치도 속초시 중앙로 147번길 16 중앙시장 제1층 89호 \",\n",
        "        \"telephone\": \"010-5383-5385\"\n",
        "    }\n",
        "]\n",
        "\n",
        "# 각 맛집에 마커 추가\n",
        "for restaurant in restaurants:\n",
        "    folium.Marker(\n",
        "        location=restaurant[\"coords\"],\n",
        "        popup=f\"<b>{restaurant['name']}</b><br>{restaurant['description']}<br>{restaurant['address']}\",\n",
        "        tooltip=restaurant[\"name\"]\n",
        "    ).add_to(m)\n",
        "\n",
        "# 지도 저장\n",
        "map_path = \"/mnt/data/sokcho_restaurant_map.html\"\n",
        "m.save(map_path)\n",
        "map_path"
      ],
      "metadata": {
        "id": "8qk-mRikO5za"
      },
      "execution_count": null,
      "outputs": []
    }
  ]
}